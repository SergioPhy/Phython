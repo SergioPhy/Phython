{
 "cells": [
  {
   "cell_type": "code",
   "execution_count": 108,
   "metadata": {},
   "outputs": [],
   "source": [
    "import numpy as np\n",
    "from statistics import median\n",
    "from statistics import mean"
   ]
  },
  {
   "cell_type": "code",
   "execution_count": 157,
   "metadata": {},
   "outputs": [
    {
     "name": "stdout",
     "output_type": "stream",
     "text": [
      "0.12 0.41 0.34 0.13\n",
      "0.23500000000000001\n",
      "0\n"
     ]
    }
   ],
   "source": [
    "def func(ntrials):\n",
    "    a = 0; b = 0; c = 0; d = 0\n",
    "    for i in range(ntrials):\n",
    "        data = np.random.choice([0,1],3)\n",
    "        #print(data) #Si desea ver los arrays, consideré que saldrán acorde al ntrials. Si pone 10^6 quizás su computadora demore.\n",
    "        if sum(data) == 0: d = d + 1;\n",
    "        if sum(data) == 1: c = c + 1;\n",
    "        if sum(data) == 2: b = b + 1;\n",
    "        if sum(data) == 3: a = a + 1;\n",
    "        \n",
    "        #print(np.media[a, b, c, d])\n",
    "    a = a/ntrials; b = b/ntrials; c = c/ntrials; d = d/ntrials;\n",
    "    \n",
    "    print(a, b, c, d)\n",
    "    print(median([a,b,c,d]))\n",
    "    return 0;\n",
    "\n",
    "if __name__ == '__main__':\n",
    "    \n",
    "    r = func(100)\n",
    "    print(r)"
   ]
  },
  {
   "cell_type": "code",
   "execution_count": 167,
   "metadata": {
    "scrolled": true
   },
   "outputs": [
    {
     "name": "stdout",
     "output_type": "stream",
     "text": [
      "2 6\n",
      "6 2\n",
      "3 5\n",
      "5 1\n",
      "6 3\n",
      "2 1\n",
      "2 1\n",
      "4 3\n",
      "2 6\n",
      "6 5\n",
      "0.0 0.3 0.1 0.2\n",
      "0.15000000000000002\n",
      "0\n"
     ]
    }
   ],
   "source": [
    "import numpy as np\n",
    "\n",
    "def func(ntrials):\n",
    "    a = 0; b = 0; c = 0; d = 0;\n",
    "    \n",
    "    for i in range(ntrials):\n",
    "        data = np.random.randint(1, 7, size=2)\n",
    "        #print(data) #if you want to see the random arrays\n",
    "        m = data[0]; n = data[1];\n",
    "        if m == n: a = a + 1;\n",
    "        if m % 2 == 0 and n % 2 == 0: b = b + 1;\n",
    "        if m + n == 7: c = c + 1;\n",
    "        if m + n >= 9: d = d + 1;\n",
    "    \n",
    "    a = a/ntrials; b = b/ntrials; c = c/ntrials; d = d/ntrials;\n",
    "        \n",
    "    print(a, b, c, d) \n",
    "    print(median([a,b,c,d]))\n",
    "\n",
    "    return 0;\n",
    "\n",
    "if __name__ == '__main__':\n",
    "    r = func(10)\n",
    "    print(r)"
   ]
  },
  {
   "cell_type": "code",
   "execution_count": 128,
   "metadata": {},
   "outputs": [
    {
     "data": {
      "text/plain": [
       "(0.2, 0.6, 0.0, 0.2)"
      ]
     },
     "execution_count": 128,
     "metadata": {},
     "output_type": "execute_result"
    }
   ],
   "source": [
    "m"
   ]
  },
  {
   "cell_type": "code",
   "execution_count": 129,
   "metadata": {},
   "outputs": [
    {
     "data": {
      "text/plain": [
       "0.2"
      ]
     },
     "execution_count": 129,
     "metadata": {},
     "output_type": "execute_result"
    }
   ],
   "source": [
    "median(m) #Se aproxima a este numero porque mientras la haya mas eventos uniformes, mas van al centro que a los costados. Ver libro."
   ]
  }
 ],
 "metadata": {
  "kernelspec": {
   "display_name": "Python 3",
   "language": "python",
   "name": "python3"
  },
  "language_info": {
   "codemirror_mode": {
    "name": "ipython",
    "version": 3
   },
   "file_extension": ".py",
   "mimetype": "text/x-python",
   "name": "python",
   "nbconvert_exporter": "python",
   "pygments_lexer": "ipython3",
   "version": "3.7.1"
  }
 },
 "nbformat": 4,
 "nbformat_minor": 2
}
