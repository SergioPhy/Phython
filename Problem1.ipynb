{
 "cells": [
  {
   "cell_type": "code",
   "execution_count": 55,
   "metadata": {},
   "outputs": [
    {
     "name": "stdout",
     "output_type": "stream",
     "text": [
      "0\n"
     ]
    }
   ],
   "source": [
    "import numpy as np\n",
    "\n",
    "def game(ntrials, switch=True):\n",
    "    #print('Premio, Selección, Removido')\n",
    "    \n",
    "    for i in range(ntrials):\n",
    "        prize_door = np.random.randint(1,4)\n",
    "        pick_door = prize_door\n",
    "        \n",
    "        selected_door = np.random.randint(1,4)\n",
    "        \n",
    "        if prize_door == selected_door:\n",
    "            if prize_door % 2 == 0:\n",
    "                removed_door = np.random.choice([1,3])\n",
    "            else:\n",
    "                removed_door = 2\n",
    "        else:\n",
    "            removed_door = 6 - prize_door - selected_door\n",
    "        \n",
    "        #print(prize_door, selected_door, removed_door)\n",
    "        \n",
    "    return 0;\n",
    "    \n",
    "if __name__ == '__main__':\n",
    "    r = game(20)\n",
    "    print(r)"
   ]
  },
  {
   "cell_type": "code",
   "execution_count": null,
   "metadata": {},
   "outputs": [],
   "source": []
  },
  {
   "cell_type": "code",
   "execution_count": null,
   "metadata": {},
   "outputs": [],
   "source": []
  },
  {
   "cell_type": "code",
   "execution_count": null,
   "metadata": {},
   "outputs": [],
   "source": []
  },
  {
   "cell_type": "code",
   "execution_count": null,
   "metadata": {},
   "outputs": [],
   "source": []
  }
 ],
 "metadata": {
  "kernelspec": {
   "display_name": "Python 3",
   "language": "python",
   "name": "python3"
  },
  "language_info": {
   "codemirror_mode": {
    "name": "ipython",
    "version": 3
   },
   "file_extension": ".py",
   "mimetype": "text/x-python",
   "name": "python",
   "nbconvert_exporter": "python",
   "pygments_lexer": "ipython3",
   "version": "3.7.1"
  }
 },
 "nbformat": 4,
 "nbformat_minor": 2
}
